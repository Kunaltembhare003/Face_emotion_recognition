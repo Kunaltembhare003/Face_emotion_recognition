{
  "cells": [
    {
      "cell_type": "markdown",
      "metadata": {
        "id": "_cVszeGY6PZy"
      },
      "source": [
        ""
      ]
    },
    {
      "cell_type": "code",
      "source": [
        "from google.colab import drive\n",
        "drive.mount('/content/drive')"
      ],
      "metadata": {
        "colab": {
          "base_uri": "https://localhost:8080/"
        },
        "id": "hH8gr1gOv9Jm",
        "outputId": "b8c21e6c-cd27-4059-8c94-f58159aa9e0e"
      },
      "execution_count": null,
      "outputs": [
        {
          "output_type": "stream",
          "name": "stdout",
          "text": [
            "Mounted at /content/drive\n"
          ]
        }
      ]
    },
    {
      "cell_type": "code",
      "source": [
        "import os\n",
        "os.chdir(\"/content/drive/MyDrive/alma_better/capstone_project/face_emotion_recognition\")"
      ],
      "metadata": {
        "id": "tffjVQ_N1KV_"
      },
      "execution_count": null,
      "outputs": []
    },
    {
      "cell_type": "code",
      "execution_count": null,
      "metadata": {
        "colab": {
          "base_uri": "https://localhost:8080/"
        },
        "id": "8_6K1O3-NO5J",
        "outputId": "0204deeb-39f4-422c-ad63-6756fa17071d"
      },
      "outputs": [
        {
          "output_type": "stream",
          "name": "stdout",
          "text": [
            "--2022-05-25 15:29:20--  https://www.dropbox.com/s/si11cws2pyho1bp/archive.zip\n",
            "Resolving www.dropbox.com (www.dropbox.com)... 162.125.8.18, 2620:100:601b:18::a27d:812\n",
            "Connecting to www.dropbox.com (www.dropbox.com)|162.125.8.18|:443... connected.\n",
            "HTTP request sent, awaiting response... 301 Moved Permanently\n",
            "Location: /s/raw/si11cws2pyho1bp/archive.zip [following]\n",
            "--2022-05-25 15:29:20--  https://www.dropbox.com/s/raw/si11cws2pyho1bp/archive.zip\n",
            "Reusing existing connection to www.dropbox.com:443.\n",
            "HTTP request sent, awaiting response... 302 Found\n",
            "Location: https://uc0b5c843b653df33a26f527df36.dl.dropboxusercontent.com/cd/0/inline/Bl-eV-IjSeSo6mXCAlynknmxk_ZrSPKr0YNjyW8n4YgmHU-GVhJpBroEYoqKa7Zppr0DbBx6nQueXzpi-ylJX1UktCZmE7JdjMn9q81sMiL_wAmjfR6NyOkn0mfY-vWND9uH-73FNUWomEL9v6HGSfddFTGmknlzHUZY5BkUG-KogA/file# [following]\n",
            "--2022-05-25 15:29:20--  https://uc0b5c843b653df33a26f527df36.dl.dropboxusercontent.com/cd/0/inline/Bl-eV-IjSeSo6mXCAlynknmxk_ZrSPKr0YNjyW8n4YgmHU-GVhJpBroEYoqKa7Zppr0DbBx6nQueXzpi-ylJX1UktCZmE7JdjMn9q81sMiL_wAmjfR6NyOkn0mfY-vWND9uH-73FNUWomEL9v6HGSfddFTGmknlzHUZY5BkUG-KogA/file\n",
            "Resolving uc0b5c843b653df33a26f527df36.dl.dropboxusercontent.com (uc0b5c843b653df33a26f527df36.dl.dropboxusercontent.com)... 162.125.9.15, 2620:100:601b:15::a27d:80f\n",
            "Connecting to uc0b5c843b653df33a26f527df36.dl.dropboxusercontent.com (uc0b5c843b653df33a26f527df36.dl.dropboxusercontent.com)|162.125.9.15|:443... connected.\n",
            "HTTP request sent, awaiting response... 302 Found\n",
            "Location: /cd/0/inline2/Bl-yxiCLd1P2pxU680ngEqkouZD_u18wHMXVMOTdgPhAWiZpLBoZ5_WMUca9gHDbqJ6O2uTC9kbDxKeh-2KkK_UtA3_L8g3PcWXGPUWd3hsFN1febQ9efxvQjOJn6b-StHgqR8Sv33cB2RNJShPslOQBFRX1j0mXCEVfWxllHU49_i23UgPOuOcrBb4EoywUqSO3InW0ahEBKSEj4chCM5Yaey4Z_N88EqeHGWBrTYlV8SNlfacUrdFHQn4vxpZ1EwmFSgksNAHx4IJmOp1kHbGcWyQbNqpEwrwsRCL2YPVYgmiENWgJKq-ua8t-Jb9ZukhA0AkBgEmKR0V8NbhzkZ8Ko2wRXAlh_pK3wVo9G9v__mdjjYTg1UMtu_7TCH6zGU_ldvEEkhdcl0ZGGR_0gaaTlPQA72Sin6BY6q2PmqjSHQ/file [following]\n",
            "--2022-05-25 15:29:21--  https://uc0b5c843b653df33a26f527df36.dl.dropboxusercontent.com/cd/0/inline2/Bl-yxiCLd1P2pxU680ngEqkouZD_u18wHMXVMOTdgPhAWiZpLBoZ5_WMUca9gHDbqJ6O2uTC9kbDxKeh-2KkK_UtA3_L8g3PcWXGPUWd3hsFN1febQ9efxvQjOJn6b-StHgqR8Sv33cB2RNJShPslOQBFRX1j0mXCEVfWxllHU49_i23UgPOuOcrBb4EoywUqSO3InW0ahEBKSEj4chCM5Yaey4Z_N88EqeHGWBrTYlV8SNlfacUrdFHQn4vxpZ1EwmFSgksNAHx4IJmOp1kHbGcWyQbNqpEwrwsRCL2YPVYgmiENWgJKq-ua8t-Jb9ZukhA0AkBgEmKR0V8NbhzkZ8Ko2wRXAlh_pK3wVo9G9v__mdjjYTg1UMtu_7TCH6zGU_ldvEEkhdcl0ZGGR_0gaaTlPQA72Sin6BY6q2PmqjSHQ/file\n",
            "Reusing existing connection to uc0b5c843b653df33a26f527df36.dl.dropboxusercontent.com:443.\n",
            "HTTP request sent, awaiting response... 200 OK\n",
            "Length: 63252113 (60M) [application/zip]\n",
            "Saving to: ‘archive.zip’\n",
            "\n",
            "archive.zip         100%[===================>]  60.32M  59.0MB/s    in 1.0s    \n",
            "\n",
            "2022-05-25 15:29:22 (59.0 MB/s) - ‘archive.zip’ saved [63252113/63252113]\n",
            "\n"
          ]
        }
      ],
      "source": [
        "!wget https://www.dropbox.com/s/si11cws2pyho1bp/archive.zip"
      ]
    },
    {
      "cell_type": "code",
      "execution_count": null,
      "metadata": {
        "id": "BQT_DQsTPDzB"
      },
      "outputs": [],
      "source": [
        "!unzip -q \"/content/drive/MyDrive/alma_better/capstone_project/face_emotion_recognition/archive.zip\""
      ]
    },
    {
      "cell_type": "code",
      "execution_count": null,
      "metadata": {
        "id": "bbucsZPQhcps"
      },
      "outputs": [],
      "source": [
        "import numpy as np # linear algebra\n",
        "import pandas as pd # data processing, CSV file I/O (e.g. pd.read_csv)\n",
        "import os\n",
        "import matplotlib.pyplot as plt\n",
        "import seaborn as sns\n",
        "import tensorflow as tf\n",
        "import keras\n",
        "from keras.preprocessing import image\n",
        "from keras.models import Sequential\n",
        "from keras.layers import Conv2D, MaxPool2D, Flatten,Dense,Dropout,BatchNormalization\n",
        "from tensorflow.keras.preprocessing.image import ImageDataGenerator\n",
        "import cv2\n",
        "from tensorflow.keras.applications import VGG16, InceptionResNetV2\n",
        "from keras import regularizers\n",
        "from tensorflow.keras.optimizers import Adam,RMSprop,SGD,Adamax"
      ]
    },
    {
      "cell_type": "code",
      "source": [
        "train_dir = \"/content/drive/MyDrive/alma_better/capstone_project/face_emotion_recognition/train\" #passing the path with training images\n",
        "test_dir = \"/content/drive/MyDrive/alma_better/capstone_project/face_emotion_recognition/test\"   #passing the path with testing images"
      ],
      "metadata": {
        "id": "NBi0heGJl1iV"
      },
      "execution_count": null,
      "outputs": []
    },
    {
      "cell_type": "code",
      "source": [
        "img_size = 48 #original size of the image"
      ],
      "metadata": {
        "id": "oG5oN1Kbl1fJ"
      },
      "execution_count": null,
      "outputs": []
    },
    {
      "cell_type": "code",
      "source": [
        "\"\"\"\n",
        "Data Augmentation\n",
        "--------------------------\n",
        "rotation_range = rotates the image with the amount of degrees we provide\n",
        "width_shift_range = shifts the image randomly to the right or left along the width of the image\n",
        "height_shift range = shifts image randomly to up or below along the height of the image\n",
        "horizontal_flip = flips the image horizontally\n",
        "rescale = to scale down the pizel values in our image between 0 and 1\n",
        "zoom_range = applies random zoom to our object\n",
        "validation_split = reserves some images to be used for validation purpose\n",
        "\"\"\"\n",
        "\n",
        "train_datagen = ImageDataGenerator(#rotation_range = 180,\n",
        "                                         width_shift_range = 0.1,\n",
        "                                         height_shift_range = 0.1,\n",
        "                                         horizontal_flip = True,\n",
        "                                         rescale = 1./255,\n",
        "                                         #zoom_range = 0.2,\n",
        "                                         validation_split = 0.2\n",
        "                                        )\n",
        "validation_datagen = ImageDataGenerator(rescale = 1./255,\n",
        "                                         validation_split = 0.2)"
      ],
      "metadata": {
        "id": "cxgrns30l1cb"
      },
      "execution_count": null,
      "outputs": []
    },
    {
      "cell_type": "code",
      "source": [
        "\"\"\"\n",
        "Applying data augmentation to the images as we read \n",
        "them from their respectivve directories\n",
        "\"\"\"\n",
        "train_generator = train_datagen.flow_from_directory(directory = train_dir,\n",
        "                                                    target_size = (img_size,img_size),\n",
        "                                                    batch_size = 64,\n",
        "                                                    color_mode = \"grayscale\",\n",
        "                                                    class_mode = \"categorical\",\n",
        "                                                    subset = \"training\"\n",
        "                                                   )\n",
        "validation_generator = validation_datagen.flow_from_directory( directory = test_dir,\n",
        "                                                              target_size = (img_size,img_size),\n",
        "                                                              batch_size = 64,\n",
        "                                                              color_mode = \"grayscale\",\n",
        "                                                              class_mode = \"categorical\",\n",
        "                                                              subset = \"validation\"\n",
        "                                                             )"
      ],
      "metadata": {
        "colab": {
          "base_uri": "https://localhost:8080/"
        },
        "id": "t117RhfTl1Zf",
        "outputId": "b972388b-950a-416b-ca08-67ddeaecc657"
      },
      "execution_count": null,
      "outputs": [
        {
          "output_type": "stream",
          "name": "stdout",
          "text": [
            "Found 22968 images belonging to 7 classes.\n",
            "Found 1432 images belonging to 7 classes.\n"
          ]
        }
      ]
    },
    {
      "cell_type": "code",
      "source": [
        "model= tf.keras.models.Sequential()\n",
        "model.add(Conv2D(32, kernel_size=(3, 3), padding='same', activation='relu', input_shape=(48, 48,1)))\n",
        "model.add(Conv2D(64,(3,3), padding='same', activation='relu' ))\n",
        "model.add(BatchNormalization())\n",
        "model.add(MaxPool2D(pool_size=(2, 2)))\n",
        "model.add(Dropout(0.25))\n",
        "\n",
        "model.add(Conv2D(128,(5,5), padding='same', activation='relu'))\n",
        "model.add(BatchNormalization())\n",
        "model.add(MaxPool2D(pool_size=(2, 2)))\n",
        "model.add(Dropout(0.25))\n",
        "    \n",
        "model.add(Conv2D(512,(3,3), padding='same', activation='relu', kernel_regularizer=regularizers.l2(0.01)))\n",
        "model.add(BatchNormalization())\n",
        "model.add(MaxPool2D(pool_size=(2, 2)))\n",
        "model.add(Dropout(0.25))\n",
        "\n",
        "model.add(Conv2D(512,(3,3), padding='same', activation='relu', kernel_regularizer=regularizers.l2(0.01)))\n",
        "model.add(BatchNormalization())\n",
        "model.add(MaxPool2D(pool_size=(2, 2)))\n",
        "model.add(Dropout(0.25))\n",
        "\n",
        "model.add(Flatten()) \n",
        "model.add(Dense(256,activation = 'relu'))\n",
        "model.add(BatchNormalization())\n",
        "model.add(Dropout(0.25))\n",
        "    \n",
        "model.add(Dense(512,activation = 'relu'))\n",
        "model.add(BatchNormalization())\n",
        "model.add(Dropout(0.25))\n",
        "\n",
        "model.add(Dense(7, activation='softmax'))\n",
        "\n",
        "model.compile(\n",
        "    optimizer = Adam(lr=0.0001), \n",
        "    loss='categorical_crossentropy', \n",
        "    metrics=['accuracy']\n",
        "  )"
      ],
      "metadata": {
        "colab": {
          "base_uri": "https://localhost:8080/"
        },
        "id": "ygn5cPZkl1WO",
        "outputId": "06ea360e-3204-4d7a-8f34-821128030560"
      },
      "execution_count": null,
      "outputs": [
        {
          "output_type": "stream",
          "name": "stderr",
          "text": [
            "/usr/local/lib/python3.7/dist-packages/keras/optimizer_v2/adam.py:105: UserWarning: The `lr` argument is deprecated, use `learning_rate` instead.\n",
            "  super(Adam, self).__init__(name, **kwargs)\n"
          ]
        }
      ]
    },
    {
      "cell_type": "code",
      "source": [
        "epochs = 60\n",
        "batch_size = 64"
      ],
      "metadata": {
        "id": "Z52Q9FkOl1TY"
      },
      "execution_count": null,
      "outputs": []
    },
    {
      "cell_type": "code",
      "source": [
        "model.summary()"
      ],
      "metadata": {
        "colab": {
          "base_uri": "https://localhost:8080/"
        },
        "id": "wKHHHLpql1Qi",
        "outputId": "41483be9-f200-4bad-8970-42ed3e90b8d4"
      },
      "execution_count": null,
      "outputs": [
        {
          "output_type": "stream",
          "name": "stdout",
          "text": [
            "Model: \"sequential\"\n",
            "_________________________________________________________________\n",
            " Layer (type)                Output Shape              Param #   \n",
            "=================================================================\n",
            " conv2d (Conv2D)             (None, 48, 48, 32)        320       \n",
            "                                                                 \n",
            " conv2d_1 (Conv2D)           (None, 48, 48, 64)        18496     \n",
            "                                                                 \n",
            " batch_normalization (BatchN  (None, 48, 48, 64)       256       \n",
            " ormalization)                                                   \n",
            "                                                                 \n",
            " max_pooling2d (MaxPooling2D  (None, 24, 24, 64)       0         \n",
            " )                                                               \n",
            "                                                                 \n",
            " dropout (Dropout)           (None, 24, 24, 64)        0         \n",
            "                                                                 \n",
            " conv2d_2 (Conv2D)           (None, 24, 24, 128)       204928    \n",
            "                                                                 \n",
            " batch_normalization_1 (Batc  (None, 24, 24, 128)      512       \n",
            " hNormalization)                                                 \n",
            "                                                                 \n",
            " max_pooling2d_1 (MaxPooling  (None, 12, 12, 128)      0         \n",
            " 2D)                                                             \n",
            "                                                                 \n",
            " dropout_1 (Dropout)         (None, 12, 12, 128)       0         \n",
            "                                                                 \n",
            " conv2d_3 (Conv2D)           (None, 12, 12, 512)       590336    \n",
            "                                                                 \n",
            " batch_normalization_2 (Batc  (None, 12, 12, 512)      2048      \n",
            " hNormalization)                                                 \n",
            "                                                                 \n",
            " max_pooling2d_2 (MaxPooling  (None, 6, 6, 512)        0         \n",
            " 2D)                                                             \n",
            "                                                                 \n",
            " dropout_2 (Dropout)         (None, 6, 6, 512)         0         \n",
            "                                                                 \n",
            " conv2d_4 (Conv2D)           (None, 6, 6, 512)         2359808   \n",
            "                                                                 \n",
            " batch_normalization_3 (Batc  (None, 6, 6, 512)        2048      \n",
            " hNormalization)                                                 \n",
            "                                                                 \n",
            " max_pooling2d_3 (MaxPooling  (None, 3, 3, 512)        0         \n",
            " 2D)                                                             \n",
            "                                                                 \n",
            " dropout_3 (Dropout)         (None, 3, 3, 512)         0         \n",
            "                                                                 \n",
            " flatten (Flatten)           (None, 4608)              0         \n",
            "                                                                 \n",
            " dense (Dense)               (None, 256)               1179904   \n",
            "                                                                 \n",
            " batch_normalization_4 (Batc  (None, 256)              1024      \n",
            " hNormalization)                                                 \n",
            "                                                                 \n",
            " dropout_4 (Dropout)         (None, 256)               0         \n",
            "                                                                 \n",
            " dense_1 (Dense)             (None, 512)               131584    \n",
            "                                                                 \n",
            " batch_normalization_5 (Batc  (None, 512)              2048      \n",
            " hNormalization)                                                 \n",
            "                                                                 \n",
            " dropout_5 (Dropout)         (None, 512)               0         \n",
            "                                                                 \n",
            " dense_2 (Dense)             (None, 7)                 3591      \n",
            "                                                                 \n",
            "=================================================================\n",
            "Total params: 4,496,903\n",
            "Trainable params: 4,492,935\n",
            "Non-trainable params: 3,968\n",
            "_________________________________________________________________\n"
          ]
        }
      ]
    },
    {
      "cell_type": "code",
      "source": [
        "history = model.fit(x = train_generator,epochs = epochs,validation_data = validation_generator)"
      ],
      "metadata": {
        "colab": {
          "base_uri": "https://localhost:8080/"
        },
        "id": "EhLS3F-Xmtfn",
        "outputId": "eb7de9ce-7ab3-4064-f745-40d9ee6230d5"
      },
      "execution_count": null,
      "outputs": [
        {
          "output_type": "stream",
          "name": "stdout",
          "text": [
            "Epoch 1/60\n",
            "359/359 [==============================] - 63s 141ms/step - loss: 9.3216 - accuracy: 0.1927 - val_loss: 8.7518 - val_accuracy: 0.2451\n",
            "Epoch 2/60\n",
            "359/359 [==============================] - 46s 127ms/step - loss: 8.3061 - accuracy: 0.2294 - val_loss: 7.8103 - val_accuracy: 0.2598\n",
            "Epoch 3/60\n",
            "359/359 [==============================] - 48s 134ms/step - loss: 7.3405 - accuracy: 0.2587 - val_loss: 6.6799 - val_accuracy: 0.3191\n",
            "Epoch 4/60\n",
            "359/359 [==============================] - 45s 126ms/step - loss: 6.3987 - accuracy: 0.2931 - val_loss: 5.8288 - val_accuracy: 0.3380\n",
            "Epoch 5/60\n",
            "359/359 [==============================] - 45s 126ms/step - loss: 5.5217 - accuracy: 0.3308 - val_loss: 5.0469 - val_accuracy: 0.3673\n",
            "Epoch 6/60\n",
            "359/359 [==============================] - 45s 127ms/step - loss: 4.7801 - accuracy: 0.3529 - val_loss: 4.5566 - val_accuracy: 0.3184\n",
            "Epoch 7/60\n",
            "359/359 [==============================] - 45s 126ms/step - loss: 4.1506 - accuracy: 0.3784 - val_loss: 3.7921 - val_accuracy: 0.4078\n",
            "Epoch 8/60\n",
            "359/359 [==============================] - 45s 126ms/step - loss: 3.6318 - accuracy: 0.3994 - val_loss: 3.3869 - val_accuracy: 0.4693\n",
            "Epoch 9/60\n",
            "359/359 [==============================] - 46s 127ms/step - loss: 3.2095 - accuracy: 0.4256 - val_loss: 3.0152 - val_accuracy: 0.4693\n",
            "Epoch 10/60\n",
            "359/359 [==============================] - 49s 137ms/step - loss: 2.8699 - accuracy: 0.4450 - val_loss: 2.9173 - val_accuracy: 0.4029\n",
            "Epoch 11/60\n",
            "359/359 [==============================] - 46s 127ms/step - loss: 2.6018 - accuracy: 0.4658 - val_loss: 2.4659 - val_accuracy: 0.4916\n",
            "Epoch 12/60\n",
            "359/359 [==============================] - 45s 126ms/step - loss: 2.3695 - accuracy: 0.4844 - val_loss: 2.2225 - val_accuracy: 0.5279\n",
            "Epoch 13/60\n",
            "359/359 [==============================] - 45s 127ms/step - loss: 2.1833 - accuracy: 0.4999 - val_loss: 1.9726 - val_accuracy: 0.5447\n",
            "Epoch 14/60\n",
            "359/359 [==============================] - 45s 126ms/step - loss: 2.0472 - accuracy: 0.5061 - val_loss: 1.8379 - val_accuracy: 0.5859\n",
            "Epoch 15/60\n",
            "359/359 [==============================] - 45s 126ms/step - loss: 1.9191 - accuracy: 0.5191 - val_loss: 1.8300 - val_accuracy: 0.5552\n",
            "Epoch 16/60\n",
            "359/359 [==============================] - 46s 127ms/step - loss: 1.8345 - accuracy: 0.5292 - val_loss: 1.7867 - val_accuracy: 0.5405\n",
            "Epoch 17/60\n",
            "359/359 [==============================] - 47s 132ms/step - loss: 1.7607 - accuracy: 0.5431 - val_loss: 1.6375 - val_accuracy: 0.5866\n",
            "Epoch 18/60\n",
            "359/359 [==============================] - 48s 133ms/step - loss: 1.7055 - accuracy: 0.5451 - val_loss: 1.6083 - val_accuracy: 0.5880\n",
            "Epoch 19/60\n",
            "359/359 [==============================] - 46s 128ms/step - loss: 1.6518 - accuracy: 0.5571 - val_loss: 1.5394 - val_accuracy: 0.5978\n",
            "Epoch 20/60\n",
            "359/359 [==============================] - 45s 126ms/step - loss: 1.6080 - accuracy: 0.5630 - val_loss: 1.5046 - val_accuracy: 0.6089\n",
            "Epoch 21/60\n",
            "359/359 [==============================] - 45s 127ms/step - loss: 1.5760 - accuracy: 0.5756 - val_loss: 1.4628 - val_accuracy: 0.6131\n",
            "Epoch 22/60\n",
            "359/359 [==============================] - 45s 125ms/step - loss: 1.5469 - accuracy: 0.5800 - val_loss: 1.4847 - val_accuracy: 0.6075\n",
            "Epoch 23/60\n",
            "359/359 [==============================] - 46s 128ms/step - loss: 1.5215 - accuracy: 0.5813 - val_loss: 1.4679 - val_accuracy: 0.6013\n",
            "Epoch 24/60\n",
            "359/359 [==============================] - 45s 125ms/step - loss: 1.4943 - accuracy: 0.5875 - val_loss: 1.4367 - val_accuracy: 0.6222\n",
            "Epoch 25/60\n",
            "359/359 [==============================] - 45s 125ms/step - loss: 1.4829 - accuracy: 0.5942 - val_loss: 1.4155 - val_accuracy: 0.6278\n",
            "Epoch 26/60\n",
            "359/359 [==============================] - 45s 125ms/step - loss: 1.4656 - accuracy: 0.5960 - val_loss: 1.4966 - val_accuracy: 0.6103\n",
            "Epoch 27/60\n",
            "359/359 [==============================] - 45s 125ms/step - loss: 1.4555 - accuracy: 0.6013 - val_loss: 1.3717 - val_accuracy: 0.6418\n",
            "Epoch 28/60\n",
            "359/359 [==============================] - 45s 124ms/step - loss: 1.4357 - accuracy: 0.6055 - val_loss: 1.4155 - val_accuracy: 0.6145\n",
            "Epoch 29/60\n",
            "359/359 [==============================] - 44s 124ms/step - loss: 1.4281 - accuracy: 0.6110 - val_loss: 1.4257 - val_accuracy: 0.6215\n",
            "Epoch 30/60\n",
            "359/359 [==============================] - 45s 125ms/step - loss: 1.4184 - accuracy: 0.6134 - val_loss: 1.3924 - val_accuracy: 0.6327\n",
            "Epoch 31/60\n",
            "359/359 [==============================] - 45s 125ms/step - loss: 1.3969 - accuracy: 0.6228 - val_loss: 1.3640 - val_accuracy: 0.6494\n",
            "Epoch 32/60\n",
            "359/359 [==============================] - 45s 126ms/step - loss: 1.4017 - accuracy: 0.6183 - val_loss: 1.3867 - val_accuracy: 0.6306\n",
            "Epoch 33/60\n",
            "359/359 [==============================] - 45s 124ms/step - loss: 1.3972 - accuracy: 0.6257 - val_loss: 1.4463 - val_accuracy: 0.6117\n",
            "Epoch 34/60\n",
            "359/359 [==============================] - 45s 126ms/step - loss: 1.3900 - accuracy: 0.6265 - val_loss: 1.4300 - val_accuracy: 0.6292\n",
            "Epoch 35/60\n",
            "359/359 [==============================] - 45s 126ms/step - loss: 1.3853 - accuracy: 0.6270 - val_loss: 1.3641 - val_accuracy: 0.6439\n",
            "Epoch 36/60\n",
            "359/359 [==============================] - 45s 126ms/step - loss: 1.3862 - accuracy: 0.6319 - val_loss: 1.3798 - val_accuracy: 0.6376\n",
            "Epoch 37/60\n",
            "359/359 [==============================] - 45s 124ms/step - loss: 1.3796 - accuracy: 0.6338 - val_loss: 1.3750 - val_accuracy: 0.6418\n",
            "Epoch 38/60\n",
            "359/359 [==============================] - 45s 125ms/step - loss: 1.3661 - accuracy: 0.6378 - val_loss: 1.3530 - val_accuracy: 0.6494\n",
            "Epoch 39/60\n",
            "359/359 [==============================] - 45s 126ms/step - loss: 1.3656 - accuracy: 0.6389 - val_loss: 1.3738 - val_accuracy: 0.6453\n",
            "Epoch 40/60\n",
            "359/359 [==============================] - 45s 126ms/step - loss: 1.3717 - accuracy: 0.6376 - val_loss: 1.3950 - val_accuracy: 0.6369\n",
            "Epoch 41/60\n",
            "359/359 [==============================] - 45s 126ms/step - loss: 1.3679 - accuracy: 0.6413 - val_loss: 1.3657 - val_accuracy: 0.6501\n",
            "Epoch 42/60\n",
            "359/359 [==============================] - 45s 125ms/step - loss: 1.3629 - accuracy: 0.6454 - val_loss: 1.4109 - val_accuracy: 0.6418\n",
            "Epoch 43/60\n",
            "359/359 [==============================] - 46s 127ms/step - loss: 1.3571 - accuracy: 0.6457 - val_loss: 1.3686 - val_accuracy: 0.6418\n",
            "Epoch 44/60\n",
            "359/359 [==============================] - 46s 128ms/step - loss: 1.3542 - accuracy: 0.6495 - val_loss: 1.4119 - val_accuracy: 0.6390\n",
            "Epoch 45/60\n",
            "359/359 [==============================] - 45s 126ms/step - loss: 1.3479 - accuracy: 0.6512 - val_loss: 1.3281 - val_accuracy: 0.6683\n",
            "Epoch 46/60\n",
            "359/359 [==============================] - 45s 125ms/step - loss: 1.3566 - accuracy: 0.6491 - val_loss: 1.3919 - val_accuracy: 0.6515\n",
            "Epoch 47/60\n",
            "359/359 [==============================] - 45s 125ms/step - loss: 1.3437 - accuracy: 0.6551 - val_loss: 1.3644 - val_accuracy: 0.6599\n",
            "Epoch 48/60\n",
            "359/359 [==============================] - 44s 124ms/step - loss: 1.3400 - accuracy: 0.6536 - val_loss: 1.3483 - val_accuracy: 0.6599\n",
            "Epoch 49/60\n",
            "359/359 [==============================] - 44s 123ms/step - loss: 1.3348 - accuracy: 0.6566 - val_loss: 1.3638 - val_accuracy: 0.6648\n",
            "Epoch 50/60\n",
            "359/359 [==============================] - 44s 122ms/step - loss: 1.3401 - accuracy: 0.6584 - val_loss: 1.3629 - val_accuracy: 0.6564\n",
            "Epoch 51/60\n",
            "359/359 [==============================] - 45s 124ms/step - loss: 1.3352 - accuracy: 0.6590 - val_loss: 1.4074 - val_accuracy: 0.6529\n",
            "Epoch 52/60\n",
            "359/359 [==============================] - 45s 125ms/step - loss: 1.3454 - accuracy: 0.6590 - val_loss: 1.3828 - val_accuracy: 0.6641\n",
            "Epoch 53/60\n",
            "359/359 [==============================] - 44s 123ms/step - loss: 1.3327 - accuracy: 0.6652 - val_loss: 1.3442 - val_accuracy: 0.6725\n",
            "Epoch 54/60\n",
            "359/359 [==============================] - 45s 126ms/step - loss: 1.3333 - accuracy: 0.6619 - val_loss: 1.3945 - val_accuracy: 0.6599\n",
            "Epoch 55/60\n",
            "359/359 [==============================] - 45s 124ms/step - loss: 1.3207 - accuracy: 0.6703 - val_loss: 1.4034 - val_accuracy: 0.6494\n",
            "Epoch 56/60\n",
            "359/359 [==============================] - 46s 127ms/step - loss: 1.3325 - accuracy: 0.6651 - val_loss: 1.3940 - val_accuracy: 0.6536\n",
            "Epoch 57/60\n",
            "359/359 [==============================] - 45s 125ms/step - loss: 1.3231 - accuracy: 0.6725 - val_loss: 1.3624 - val_accuracy: 0.6690\n",
            "Epoch 58/60\n",
            "359/359 [==============================] - 45s 125ms/step - loss: 1.3225 - accuracy: 0.6683 - val_loss: 1.4399 - val_accuracy: 0.6341\n",
            "Epoch 59/60\n",
            "359/359 [==============================] - 45s 125ms/step - loss: 1.3189 - accuracy: 0.6722 - val_loss: 1.3717 - val_accuracy: 0.6634\n",
            "Epoch 60/60\n",
            "359/359 [==============================] - 1869s 5s/step - loss: 1.3101 - accuracy: 0.6749 - val_loss: 1.4122 - val_accuracy: 0.6397\n"
          ]
        }
      ]
    },
    {
      "cell_type": "code",
      "source": [
        "fig , ax = plt.subplots(1,2)\n",
        "train_acc = history.history['accuracy']\n",
        "train_loss = history.history['loss']\n",
        "fig.set_size_inches(12,4)\n",
        "\n",
        "ax[0].plot(history.history['accuracy'])\n",
        "ax[0].plot(history.history['val_accuracy'])\n",
        "ax[0].set_title('Training Accuracy vs Validation Accuracy')\n",
        "ax[0].set_ylabel('Accuracy')\n",
        "ax[0].set_xlabel('Epoch')\n",
        "ax[0].legend(['Train', 'Validation'], loc='upper left')\n",
        "\n",
        "ax[1].plot(history.history['loss'])\n",
        "ax[1].plot(history.history['val_loss'])\n",
        "ax[1].set_title('Training Loss vs Validation Loss')\n",
        "ax[1].set_ylabel('Loss')\n",
        "ax[1].set_xlabel('Epoch')\n",
        "ax[1].legend(['Train', 'Validation'], loc='upper left')\n",
        "\n",
        "plt.show()"
      ],
      "metadata": {
        "colab": {
          "base_uri": "https://localhost:8080/",
          "height": 295
        },
        "id": "O23jwXJvouou",
        "outputId": "47211e9e-c486-4e93-dac3-47ca3ab00808"
      },
      "execution_count": null,
      "outputs": [
        {
          "output_type": "display_data",
          "data": {
            "text/plain": [
              "<Figure size 864x288 with 2 Axes>"
            ],
            "image/png": "[encoded data removed]"
          },
          "metadata": {
            "needs_background": "light"
          }
        }
      ]
    },
    {
      "cell_type": "code",
      "source": [
        "model.save('model_optimal.h5')"
      ],
      "metadata": {
        "id": "_wD67F3noxpF"
      },
      "execution_count": null,
      "outputs": []
    },
    {
      "cell_type": "code",
      "source": [
        ""
      ],
      "metadata": {
        "id": "dtIP-1qS3SMh"
      },
      "execution_count": null,
      "outputs": []
    }
  ],
  "metadata": {
    "colab": {
      "collapsed_sections": [],
      "name": "copy_Correct_ExpressionRecognition_Training.ipynb",
      "provenance": []
    },
    "kernelspec": {
      "display_name": "Python 3 (ipykernel)",
      "language": "python",
      "name": "python3"
    },
    "language_info": {
      "codemirror_mode": {
        "name": "ipython",
        "version": 3
      },
      "file_extension": ".py",
      "mimetype": "text/x-python",
      "name": "python",
      "nbconvert_exporter": "python",
      "pygments_lexer": "ipython3",
      "version": "3.10.4"
    },
    "accelerator": "GPU"
  },
  "nbformat": 4,
  "nbformat_minor": 0
}